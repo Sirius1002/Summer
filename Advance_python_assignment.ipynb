{
  "nbformat": 4,
  "nbformat_minor": 0,
  "metadata": {
    "colab": {
      "provenance": [],
      "authorship_tag": "ABX9TyMh5WAiH3APj7nn5Brz3u1N",
      "include_colab_link": true
    },
    "kernelspec": {
      "name": "python3",
      "display_name": "Python 3"
    },
    "language_info": {
      "name": "python"
    }
  },
  "cells": [
    {
      "cell_type": "markdown",
      "metadata": {
        "id": "view-in-github",
        "colab_type": "text"
      },
      "source": [
        "<a href=\"https://colab.research.google.com/github/Sirius1002/Summer/blob/main/Advance_python_assignment.ipynb\" target=\"_parent\"><img src=\"https://colab.research.google.com/assets/colab-badge.svg\" alt=\"Open In Colab\"/></a>"
      ]
    },
    {
      "cell_type": "markdown",
      "source": [
        "QUESTION 1:"
      ],
      "metadata": {
        "id": "Ij3Jk9tdkK21"
      }
    },
    {
      "cell_type": "code",
      "source": [
        "import random\n",
        "import string\n",
        "\n",
        "with open('random_strings.txt', 'w') as file:\n",
        "    for _ in range(1000):\n",
        "        random_string = ''.join(random.choices(string.ascii_lowercase, k=10))\n",
        "        file.write(random_string + '\\n')\n"
      ],
      "metadata": {
        "id": "QgR4FsHnkPvW"
      },
      "execution_count": 1,
      "outputs": []
    },
    {
      "cell_type": "markdown",
      "source": [
        "QUESTION 2:"
      ],
      "metadata": {
        "id": "IpxbtfmgkfVV"
      }
    },
    {
      "cell_type": "code",
      "source": [
        "import random\n",
        "import string\n",
        "import os\n",
        "\n",
        "file_size = 5 * 1024 * 1024  # 5 MB in bytes\n",
        "\n",
        "with open('random_strings_large.txt', 'w') as file:\n",
        "    while os.path.getsize('random_strings_large.txt') < file_size:\n",
        "        random_string = ''.join(random.choices(string.ascii_lowercase, k=10))\n",
        "        file.write(random_string + '\\n')\n"
      ],
      "metadata": {
        "id": "GhzBzavLkiGS"
      },
      "execution_count": 2,
      "outputs": []
    },
    {
      "cell_type": "markdown",
      "source": [
        "QUESTION 3:"
      ],
      "metadata": {
        "id": "fFa60OSKkm7q"
      }
    },
    {
      "cell_type": "code",
      "source": [
        "import random\n",
        "import string\n",
        "import os\n",
        "\n",
        "file_size = 5 * 1024 * 1024  # 5 MB in bytes\n",
        "\n",
        "for i in range(1, 11):\n",
        "    file_name = f'random_strings_{i}.txt'\n",
        "    with open(file_name, 'w') as file:\n",
        "        while os.path.getsize(file_name) < file_size:\n",
        "            random_string = ''.join(random.choices(string.ascii_lowercase, k=10))\n",
        "            file.write(random_string + '\\n')\n"
      ],
      "metadata": {
        "id": "Rw5GVysDkpOR"
      },
      "execution_count": 3,
      "outputs": []
    },
    {
      "cell_type": "markdown",
      "source": [
        "QUESTION 4:"
      ],
      "metadata": {
        "id": "F2ND5Qbfk4Ch"
      }
    },
    {
      "cell_type": "code",
      "source": [
        "import random\n",
        "import string\n",
        "import os\n",
        "\n",
        "file_sizes = [1024 ** 3, 2 * 1024 ** 3, 3 * 1024 ** 3, 4 * 1024 ** 3, 5 * 1024 ** 3]  # Sizes in bytes\n",
        "\n",
        "for i, file_size in enumerate(file_sizes):\n",
        "    file_name = f'random_strings_{i+1}GB.txt'\n",
        "    with open(file_name, 'w') as file:\n",
        "        while os.path.getsize(file_name) < file_size:\n",
        "            random_string = ''.join(random.choices(string.ascii_lowercase, k=10))\n",
        "            file.write(random_string + '\\n')\n"
      ],
      "metadata": {
        "id": "pBC7p0I1mC4J"
      },
      "execution_count": null,
      "outputs": []
    },
    {
      "cell_type": "markdown",
      "source": [
        "QUESTION 5"
      ],
      "metadata": {
        "id": "LC9UuX0Al6eI"
      }
    },
    {
      "cell_type": "code",
      "source": [
        "import os\n",
        "\n",
        "file_sizes = [1024 ** 3, 2 * 1024 ** 3, 3 * 1024 ** 3, 4 * 1024 ** 3, 5 * 1024 ** 3]  # Sizes in bytes\n",
        "\n",
        "for i, file_size in enumerate(file_sizes):\n",
        "    file_name = f'random_strings_{i+1}GB.txt'\n",
        "    output_file = f'random_strings_{i+1}GB_uppercase.txt'\n",
        "\n",
        "    with open(file_name, 'r') as file, open(output_file, 'w') as output:\n",
        "        for line in file:\n",
        "            output.write(line.upper())\n"
      ],
      "metadata": {
        "id": "MOXAf3B2mE1a"
      },
      "execution_count": null,
      "outputs": []
    },
    {
      "cell_type": "markdown",
      "source": [
        "QUESTION 6"
      ],
      "metadata": {
        "id": "ognIkyEwmIi4"
      }
    },
    {
      "cell_type": "code",
      "source": [
        "import os\n",
        "from concurrent.futures import ThreadPoolExecutor\n",
        "\n",
        "file_sizes = [1024 ** 3, 2 * 1024 ** 3, 3 * 1024 ** 3, 4 * 1024 ** 3, 5 * 1024 ** 3]  # Sizes in bytes\n",
        "\n",
        "def convert_to_uppercase(file_name):\n",
        "    output_file = file_name.replace('.txt', '_uppercase.txt')\n",
        "\n",
        "    with open(file_name, 'r') as file, open(output_file, 'w') as output:\n",
        "        for line in file:\n",
        "            output.write(line.upper())\n",
        "\n",
        "with ThreadPoolExecutor() as executor:\n",
        "    for i, file_size in enumerate(file_sizes):\n",
        "        file_name = f'random_strings_{i+1}GB.txt'\n",
        "        executor.submit(convert_to_uppercase, file_name)\n"
      ],
      "metadata": {
        "id": "uM9x6tlAmOSN"
      },
      "execution_count": null,
      "outputs": []
    },
    {
      "cell_type": "markdown",
      "source": [
        "QUESTION 7"
      ],
      "metadata": {
        "id": "4II0yA4zmPy8"
      }
    },
    {
      "cell_type": "code",
      "source": [
        "from google_images_download import google_images_download\n",
        "\n",
        "response = google_images_download.googleimagesdownload()\n",
        "\n",
        "search_queries = [\"cat\"]  # You can add more search queries if needed\n",
        "\n",
        "arguments = {\n",
        "    \"keywords\": ','.join(search_queries),\n",
        "    \"limit\": 10,  # Number of images to download\n",
        "    \"print_urls\": False,\n",
        "    \"output_directory\": \"cat_images\",  # Output directory to save the downloaded images\n",
        "}\n",
        "\n",
        "response.download(arguments)\n"
      ],
      "metadata": {
        "id": "cOIkeHEzmRry"
      },
      "execution_count": null,
      "outputs": []
    },
    {
      "cell_type": "markdown",
      "source": [
        "QUESTION 8"
      ],
      "metadata": {
        "id": "Nw_pn9TsmU5v"
      }
    },
    {
      "cell_type": "code",
      "source": [
        "from pytube import YouTube\n",
        "\n",
        "search_query = \"Machine Learning\"  # You can modify the search query if needed\n",
        "\n",
        "results = YouTube.search(query=search_query, max_results=10)\n",
        "\n",
        "for video in results:\n",
        "    video.streams.get_highest_resolution().download(output_path=\"machine_learning_videos\")\n"
      ],
      "metadata": {
        "id": "XwQW5dmKmYTT"
      },
      "execution_count": null,
      "outputs": []
    },
    {
      "cell_type": "markdown",
      "source": [
        "QUESTION 9"
      ],
      "metadata": {
        "id": "8nqA6xVPmaZ2"
      }
    },
    {
      "cell_type": "code",
      "source": [
        "from moviepy.editor import VideoFileClip\n",
        "\n",
        "video_directory = \"machine_learning_videos\"  # Directory containing the downloaded videos\n",
        "\n",
        "for video_file in os.listdir(video_directory):\n",
        "    video_path = os.path.join(video_directory, video_file)\n",
        "   \n"
      ],
      "metadata": {
        "id": "Ur5PfcXamb-X"
      },
      "execution_count": null,
      "outputs": []
    },
    {
      "cell_type": "markdown",
      "source": [
        "QUESTION 10"
      ],
      "metadata": {
        "id": "F-Ld8EUfmnRc"
      }
    },
    {
      "cell_type": "code",
      "source": [
        "]import os\n",
        "import threading\n",
        "from pytube import YouTube\n",
        "from moviepy.editor import VideoFileClip\n",
        "\n",
        "# Step 1: Download videos from YouTube\n",
        "def download_video(url, output_directory):\n",
        "    try:\n",
        "        video = YouTube(url)\n",
        "        video.streams.get_highest_resolution().download(output_directory)\n",
        "        print(f\"Downloaded: {url}\")\n",
        "    except Exception as e:\n",
        "        print(f\"Error downloading {url}: {str(e)}\")\n",
        "\n",
        "def download_videos(urls, output_directory):\n",
        "    threads = []\n",
        "    for url in urls:\n",
        "        thread = threading.Thread(target=download_video, args=(url, output_directory))\n",
        "        thread.start()\n",
        "        threads.append(thread)\n",
        "    \n",
        "    for thread in threads:\n",
        "        thread.join()\n",
        "\n",
        "# Step 2: Convert videos to audio\n",
        "def convert_to_audio(video_directory):\n",
        "    for video_file in os.listdir(video_directory):\n",
        "        video_path = os.path.join(video_directory, video_file)\n",
        "        audio_path = os.path.splitext(video_path)[0] + \".mp3\"\n",
        "        try:\n",
        "            video = VideoFileClip(video_path)\n",
        "            audio = video.audio\n",
        "            audio.write_audiofile(audio_path)\n",
        "            print(f\"Converted to audio: {video_file}\")\n",
        "        except Exception as e:\n",
        "            print(f\"Error converting {video_file} to audio: {str(e)}\")\n",
        "\n",
        "# Main pipeline\n",
        "def video_to_audio_pipeline(urls, output_directory):\n",
        "    # Step 1: Download videos from YouTube\n",
        "    download_videos(urls, output_directory)\n",
        "\n",
        "    # Step 2: Convert videos to audio\n",
        "    convert_to_audio(output_directory)\n",
        "\n",
        "# Example usage\n",
        "video_urls = [\n",
        "    \"https://www.youtube.com/watch?v=VIDEO_ID_1\",\n",
        "    \"https://www.youtube.com/watch?v=VIDEO_ID_2\",\n",
        "    # Add more video URLs as needed\n",
        "]\n",
        "\n",
        "output_directory = \"youtube_videos\"\n",
        "os.makedirs(output_directory, exist_ok=True)\n",
        "\n",
        "video_to_audio_pipeline(video_urls, output_directory)\n"
      ],
      "metadata": {
        "id": "Pbnlp814mpjZ"
      },
      "execution_count": null,
      "outputs": []
    },
    {
      "cell_type": "markdown",
      "source": [
        "QUESTION 11 :"
      ],
      "metadata": {
        "id": "vwnpuPmUmueW"
      }
    },
    {
      "cell_type": "code",
      "source": [
        "import os\n",
        "import threading\n",
        "from google_images_download import google_images_download\n",
        "from PIL import Image\n",
        "\n",
        "# Step 1: Download images from Google Images\n",
        "def download_images(search_query, output_directory):\n",
        "    response = google_images_download.googleimagesdownload()\n",
        "    arguments = {\n",
        "        \"keywords\": search_query,\n",
        "        \"limit\": 500,  # Number of images to download\n",
        "        \"print_urls\": False,\n",
        "        \"output_directory\": output_directory,\n",
        "    }\n",
        "    response.download(arguments)\n",
        "    print(f\"Downloaded images: {search_query}\")\n",
        "\n",
        "def download_images_pipeline(search_query, output_directory):\n",
        "    download_images(search_query, output_directory)\n",
        "\n",
        "# Step 2: Rescale images\n",
        "def rescale_image(image_directory, image_file):\n",
        "    try:\n",
        "        image_path = os.path.join(image_directory, image_file)\n",
        "        image = Image.open(image_path)\n",
        "        resized_image = image.resize((int(image.width * 0.5), int(image.height * 0.5)))\n",
        "        resized_image.save(image_path)\n",
        "        print(f\"Rescaled image: {image_file}\")\n",
        "    except Exception as e:\n",
        "        print(f\"Error rescaling {image_file}: {str(e)}\")\n",
        "\n",
        "def rescale_images(image_directory):\n",
        "   \n"
      ],
      "metadata": {
        "id": "kH2fBTZqmxXj"
      },
      "execution_count": null,
      "outputs": []
    }
  ]
}