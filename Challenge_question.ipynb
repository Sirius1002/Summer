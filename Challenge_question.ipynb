{
  "nbformat": 4,
  "nbformat_minor": 0,
  "metadata": {
    "colab": {
      "provenance": [],
      "authorship_tag": "ABX9TyOWXAKPK/8NoYBIH03rbhQG",
      "include_colab_link": true
    },
    "kernelspec": {
      "name": "python3",
      "display_name": "Python 3"
    },
    "language_info": {
      "name": "python"
    }
  },
  "cells": [
    {
      "cell_type": "markdown",
      "metadata": {
        "id": "view-in-github",
        "colab_type": "text"
      },
      "source": [
        "<a href=\"https://colab.research.google.com/github/Sirius1002/Summer/blob/main/Challenge_question.ipynb\" target=\"_parent\"><img src=\"https://colab.research.google.com/assets/colab-badge.svg\" alt=\"Open In Colab\"/></a>"
      ]
    },
    {
      "cell_type": "markdown",
      "source": [
        "1. Write a python program to sort the list of heterogeneous data. \n",
        "e.g. \n",
        "L = [\"Ram\", 1, \"Shyam\", 2, \"Aman\", 3]\n",
        "print(L)\n",
        "L.sort()\n",
        "print(L)\n",
        "*Above code gives error. Correct it*"
      ],
      "metadata": {
        "id": "XfHSsY7O9BcD"
      }
    },
    {
      "cell_type": "code",
      "source": [
        "## The type of error in this is TYPE-ERROR.This error occurs when we try to compare or equate two different types of data types, here strings and numbers.\n",
        "## it can be corrected by ensuring that all the elements are of the same type\n",
        "L = [\"Ram\", 1, \"Shyam\", 2, \"Aman\", 3]\n",
        "print(L)\n",
        "\n",
        "def c_key(item):\n",
        "    if isinstance(item, int):\n",
        "        return (0, item)  # Sort integers first\n",
        "    else:\n",
        "        return (1, item)  # Sort strings after integers\n",
        "\n",
        "sorted_L = sorted(L, key=c_key)\n",
        "\n",
        "print(sorted_L)\n",
        "## so by giving priority to the integer class we will first get the integer in the output and then the strings"
      ],
      "metadata": {
        "colab": {
          "base_uri": "https://localhost:8080/"
        },
        "id": "rSSYwZp39Kcd",
        "outputId": "3e3a3d62-99b7-48b2-ad19-d3d4315a3654"
      },
      "execution_count": 6,
      "outputs": [
        {
          "output_type": "stream",
          "name": "stdout",
          "text": [
            "['Ram', 1, 'Shyam', 2, 'Aman', 3]\n",
            "[1, 2, 3, 'Aman', 'Ram', 'Shyam']\n"
          ]
        }
      ]
    }
  ]
}