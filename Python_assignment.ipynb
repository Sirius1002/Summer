{
  "nbformat": 4,
  "nbformat_minor": 0,
  "metadata": {
    "colab": {
      "provenance": [],
      "authorship_tag": "ABX9TyNlMtjERvn1MrlZLFuvbcDl",
      "include_colab_link": true
    },
    "kernelspec": {
      "name": "python3",
      "display_name": "Python 3"
    },
    "language_info": {
      "name": "python"
    }
  },
  "cells": [
    {
      "cell_type": "markdown",
      "metadata": {
        "id": "view-in-github",
        "colab_type": "text"
      },
      "source": [
        "<a href=\"https://colab.research.google.com/github/Sirius1002/Summer/blob/main/Python_assignment.ipynb\" target=\"_parent\"><img src=\"https://colab.research.google.com/assets/colab-badge.svg\" alt=\"Open In Colab\"/></a>"
      ]
    },
    {
      "cell_type": "markdown",
      "source": [],
      "metadata": {
        "id": "5BXa0MvsjmsR"
      }
    },
    {
      "cell_type": "markdown",
      "source": [
        "# Python assignment -**1** "
      ],
      "metadata": {
        "id": "nuM3Pw2pjoLP"
      }
    },
    {
      "cell_type": "markdown",
      "source": [
        "QUESTION 1:"
      ],
      "metadata": {
        "id": "VOtz0_Wjoofq"
      }
    },
    {
      "cell_type": "code",
      "source": [
        "L=[11,12,13,14]\n",
        "L.append(50)\n",
        "L.append(60)\n",
        "print(L)\n",
        "L.remove(11)\n",
        "L.remove(13)\n",
        "print(L)\n",
        "L.sort()\n",
        "print(L)\n",
        "L.sort(reverse=True)\n",
        "print(L)"
      ],
      "metadata": {
        "colab": {
          "base_uri": "https://localhost:8080/"
        },
        "id": "51rvDPSbjvEh",
        "outputId": "98bec502-4304-4866-f424-dfa7049bb9dd"
      },
      "execution_count": 6,
      "outputs": [
        {
          "output_type": "stream",
          "name": "stdout",
          "text": [
            "[11, 12, 13, 14, 50, 60]\n",
            "[12, 14, 50, 60]\n",
            "[12, 14, 50, 60]\n",
            "[60, 50, 14, 12]\n"
          ]
        }
      ]
    },
    {
      "cell_type": "code",
      "source": [
        "L\n",
        "if 13 in L:\n",
        "  print(\"13 is present in the list\")\n",
        "else:\n",
        "  print(\"It is not present in the list\") \n",
        "count=len(L)\n",
        "print(\"the number of elements present in the list : \", count)  \n",
        "sum_of_list=sum(L)\n",
        "print(\"the sum of all the elements of the list : \" ,sum_of_list)\n",
        "sum_of_odd = 0\n",
        "for num in L:\n",
        "    if num % 2 != 0:\n",
        "        sum_of_odd += num\n",
        "print(\"The sum of all odd numbers in L is:\", sum_of_odd)\n",
        "\n",
        "sum_of_even= 0\n",
        "for num in L:\n",
        "    if num % 2 == 0:\n",
        "        sum_of_even += num\n",
        "print(\"The sum of all even numbers in L is:\", sum_of_even)"
      ],
      "metadata": {
        "colab": {
          "base_uri": "https://localhost:8080/"
        },
        "id": "LiHMgJ5Sld1e",
        "outputId": "31d36b86-e158-474c-d5b2-187d4076d4d6"
      },
      "execution_count": 13,
      "outputs": [
        {
          "output_type": "stream",
          "name": "stdout",
          "text": [
            "It is not present in the list\n",
            "the number of elements present in the list :  4\n",
            "the sum of all the elements of the list :  136\n",
            "The sum of all odd numbers in L is: 0\n",
            "The sum of all even numbers in L is: 136\n"
          ]
        }
      ]
    },
    {
      "cell_type": "code",
      "source": [
        "def is_prime(num):\n",
        "    if num < 2:\n",
        "        return False\n",
        "    divisor = 2\n",
        "    while divisor * divisor <= num:\n",
        "        if num % divisor == 0:\n",
        "            return False\n",
        "        divisor += 1\n",
        "    return True\n",
        "sum_of_prime=sum(num for n in L if is_prime(n))\n",
        "print(\"the sum of all the prime numbers in the list : \",sum_of_prime) "
      ],
      "metadata": {
        "colab": {
          "base_uri": "https://localhost:8080/"
        },
        "id": "I7hzvIZJnd9e",
        "outputId": "84c6754d-bcc0-44da-8947-ac2e4f372015"
      },
      "execution_count": 15,
      "outputs": [
        {
          "output_type": "stream",
          "name": "stdout",
          "text": [
            "the sum of all the prime numbers in the list :  0\n"
          ]
        }
      ]
    },
    {
      "cell_type": "code",
      "source": [
        "L.clear()\n",
        "del L"
      ],
      "metadata": {
        "id": "lYulL6QPodjT"
      },
      "execution_count": null,
      "outputs": []
    },
    {
      "cell_type": "markdown",
      "source": [
        "QUESTION 2 :"
      ],
      "metadata": {
        "id": "uAuKF_0vomSj"
      }
    },
    {
      "cell_type": "code",
      "source": [
        "D={1:5.6,2:7.8,3:6.6,4:8.7,5:7.7}\n",
        "D[8]=8.8\n",
        "D\n",
        "del D[2]\n",
        "D\n",
        "if 6 in D :\n",
        "  print(\"Key is present in the dictionary\")\n",
        "else:\n",
        "  print(\"Key is not present in the dictionary\") \n",
        "count=len(D)\n",
        "print(\"The number of elements in the dictionary : \", count)\n"
      ],
      "metadata": {
        "colab": {
          "base_uri": "https://localhost:8080/"
        },
        "id": "2Wa3-1SGovSM",
        "outputId": "3b444624-c3bc-42c9-87e4-fda35cadc50a"
      },
      "execution_count": 22,
      "outputs": [
        {
          "output_type": "stream",
          "name": "stdout",
          "text": [
            "Key is not present in the dictionary\n",
            "The number of elements in the dictionary :  5\n"
          ]
        }
      ]
    },
    {
      "cell_type": "code",
      "source": [
        "add_values=sum(D.values())\n",
        "print(\"The sum of all the values of D is : \", add_values)  \n",
        "D[3]=7.1\n",
        "print(\" dictionary before clearing enteries \", D)\n",
        "D.clear"
      ],
      "metadata": {
        "colab": {
          "base_uri": "https://localhost:8080/"
        },
        "id": "Voni1Oukthb3",
        "outputId": "5d8de319-f912-457a-c30b-434a06fdc80a"
      },
      "execution_count": 28,
      "outputs": [
        {
          "output_type": "stream",
          "name": "stdout",
          "text": [
            "The sum of all the values of D is :  37.9\n",
            " dictionary before clearing enteries  {1: 5.6, 3: 7.1, 4: 8.7, 5: 7.7, 8: 8.8}\n"
          ]
        },
        {
          "output_type": "execute_result",
          "data": {
            "text/plain": [
              "<function dict.clear>"
            ]
          },
          "metadata": {},
          "execution_count": 28
        }
      ]
    },
    {
      "cell_type": "markdown",
      "source": [
        "QUESTION 3 :"
      ],
      "metadata": {
        "id": "LSBAPXHUuMEw"
      }
    },
    {
      "cell_type": "code",
      "source": [
        "S1 = {10, 20, 30, 40, 50, 60}\n",
        "S2 = {40, 50, 60, 70, 80, 90}\n",
        "S1.add(55)\n",
        "S1.add(66)\n",
        "S1\n",
        "S1.remove(10)\n",
        "S1.remove(30)\n",
        "S1\n",
        "if 40 in S1:\n",
        "    print(\"40 is present in S1.\")\n",
        "else:\n",
        "    print(\"40 is not present in S1.\")\n",
        "union_ = S1.union(S2)\n",
        "print(\"The union of S1 and S2 is:\", union_)\n",
        "intersection_ = S1.intersection(S2)\n",
        "print(\"The intersection of S1 and S2 is:\", intersection_)\n",
        "difference_ = S1.difference(S2)\n",
        "print(\"The difference between S1 and S2 is:\", difference_)\n"
      ],
      "metadata": {
        "colab": {
          "base_uri": "https://localhost:8080/"
        },
        "id": "jhY-UBX5uOUx",
        "outputId": "bf98f61d-5507-4efb-fbd3-4afbdcf2ab87"
      },
      "execution_count": 30,
      "outputs": [
        {
          "output_type": "stream",
          "name": "stdout",
          "text": [
            "40 is present in S1.\n",
            "The union of S1 and S2 is: {66, 70, 40, 80, 50, 20, 55, 90, 60}\n",
            "The intersection of S1 and S2 is: {40, 50, 60}\n",
            "The difference between S1 and S2 is: {66, 20, 55}\n"
          ]
        }
      ]
    },
    {
      "cell_type": "markdown",
      "source": [
        "QUESTION 4:"
      ],
      "metadata": {
        "id": "UFflshnyunog"
      }
    },
    {
      "cell_type": "code",
      "source": [
        "## RANDOM STRING OF THE NUMBERS\n",
        "import random \n",
        "for i in range(100):\n",
        "  length=random.randint(6,8)\n",
        "  random_string = ''.join(random.choices('abcdefghijklmnopqrstuvwxyz', k=length))\n",
        "  print(random_string)"
      ],
      "metadata": {
        "colab": {
          "base_uri": "https://localhost:8080/"
        },
        "id": "MP-HNg9Fuplf",
        "outputId": "721e4953-12c9-4545-cda1-74b19266713e"
      },
      "execution_count": 32,
      "outputs": [
        {
          "output_type": "stream",
          "name": "stdout",
          "text": [
            "forpxwbp\n",
            "ifetur\n",
            "nedlau\n",
            "tmurmd\n",
            "pwcwdej\n",
            "imlepibm\n",
            "qamlwjyi\n",
            "ltkwzcc\n",
            "pyeaktp\n",
            "qceeoiod\n",
            "befsdhp\n",
            "gpfuvxs\n",
            "kbfiizjb\n",
            "mnptftf\n",
            "nrlvaaww\n",
            "pyfexxl\n",
            "ijaakb\n",
            "pujamj\n",
            "qhishja\n",
            "ookissph\n",
            "txedcst\n",
            "ofygarje\n",
            "ztgxysoe\n",
            "ydoyah\n",
            "sgsecjt\n",
            "strpaur\n",
            "ncjvdyr\n",
            "qpcwgba\n",
            "ryerwm\n",
            "warfehhq\n",
            "blemnoj\n",
            "syfzkmx\n",
            "zixeqkw\n",
            "hcjmwuqo\n",
            "tesfppvt\n",
            "azbqih\n",
            "kpdtvqgy\n",
            "dupbcwy\n",
            "czyfvut\n",
            "vplvzk\n",
            "pxzlesmt\n",
            "binvriw\n",
            "evccages\n",
            "imqfebwf\n",
            "wqnumzrr\n",
            "fcjbzqy\n",
            "dsfipxd\n",
            "dvkwwqhr\n",
            "zaintbf\n",
            "slkrdhrr\n",
            "myktweps\n",
            "ruhfyisz\n",
            "xylcowx\n",
            "rstgvo\n",
            "duvbosqy\n",
            "fjiegqh\n",
            "ealaak\n",
            "paurrmjr\n",
            "iyfcwbi\n",
            "kjubuz\n",
            "iijdwxb\n",
            "xnhlihvv\n",
            "aibhndp\n",
            "fipcrknu\n",
            "beprric\n",
            "bzbgmq\n",
            "tkxqips\n",
            "zappxm\n",
            "hhsnpk\n",
            "onrwtm\n",
            "frcstxni\n",
            "bzirumrc\n",
            "mrwotiyc\n",
            "pjuobzjq\n",
            "gxidhopv\n",
            "vqrkju\n",
            "zjzxzap\n",
            "gnjluto\n",
            "ljvkwzg\n",
            "qtdeonx\n",
            "kaknch\n",
            "wclcjx\n",
            "vcisqnm\n",
            "yvcsyrg\n",
            "yptccf\n",
            "owqnfqy\n",
            "tdqefo\n",
            "bltnmhjp\n",
            "xquyte\n",
            "odxcwq\n",
            "unihzcq\n",
            "yaqgjae\n",
            "wuvstidn\n",
            "gnvlek\n",
            "tucvsdd\n",
            "mmfogu\n",
            "wovuswq\n",
            "bppoei\n",
            "lteczxwb\n",
            "blwfkcj\n"
          ]
        }
      ]
    },
    {
      "cell_type": "code",
      "source": [
        "def is_prime(num):\n",
        "    if num < 2:\n",
        "        return False\n",
        "    for i in range(2, int(num ** 0.5) + 1):\n",
        "        if num % i == 0:\n",
        "            return False\n",
        "    return True\n",
        "\n",
        "for num in range(600, 801):\n",
        "    if is_prime(num):\n",
        "        print(num)"
      ],
      "metadata": {
        "colab": {
          "base_uri": "https://localhost:8080/"
        },
        "id": "MLvUZprK0tPQ",
        "outputId": "34a1e6df-2a09-42b9-8814-a9430add6514"
      },
      "execution_count": 33,
      "outputs": [
        {
          "output_type": "stream",
          "name": "stdout",
          "text": [
            "601\n",
            "607\n",
            "613\n",
            "617\n",
            "619\n",
            "631\n",
            "641\n",
            "643\n",
            "647\n",
            "653\n",
            "659\n",
            "661\n",
            "673\n",
            "677\n",
            "683\n",
            "691\n",
            "701\n",
            "709\n",
            "719\n",
            "727\n",
            "733\n",
            "739\n",
            "743\n",
            "751\n",
            "757\n",
            "761\n",
            "769\n",
            "773\n",
            "787\n",
            "797\n"
          ]
        }
      ]
    },
    {
      "cell_type": "code",
      "source": [
        "for num in range(100, 1001):\n",
        "    if num % 7 == 0 and num % 9 == 0:\n",
        "        print(num)"
      ],
      "metadata": {
        "colab": {
          "base_uri": "https://localhost:8080/"
        },
        "id": "_vYC9-za00jl",
        "outputId": "5808b277-88a9-414c-bd93-b795ddb675c4"
      },
      "execution_count": 34,
      "outputs": [
        {
          "output_type": "stream",
          "name": "stdout",
          "text": [
            "126\n",
            "189\n",
            "252\n",
            "315\n",
            "378\n",
            "441\n",
            "504\n",
            "567\n",
            "630\n",
            "693\n",
            "756\n",
            "819\n",
            "882\n",
            "945\n"
          ]
        }
      ]
    },
    {
      "cell_type": "markdown",
      "source": [
        "QUESTION 5:"
      ],
      "metadata": {
        "id": "11Vhu_OW1NUB"
      }
    },
    {
      "cell_type": "code",
      "source": [
        "import random\n",
        "list1 = random.sample(range(10, 31), 10)\n",
        "list2 = random.sample(range(10, 31), 10)\n",
        "\n",
        "print(\"List 1:\", list1)\n",
        "print(\"List 2:\", list2)\n",
        "\n",
        "common_numbers = list(set(list1) & set(list2))\n",
        "print(\"Common numbers:\", common_numbers)\n",
        "\n",
        "unique_numbers = list(set(list1) ^ set(list2))\n",
        "print(\"Unique numbers:\", unique_numbers)\n",
        "\n",
        "min_value = min(min(list1), min(list2))\n",
        "print(\"Minimum value:\", min_value)\n",
        "\n",
        "max_value = max(max(list1), max(list2))\n",
        "print(\"Maximum value:\", max_value)\n",
        "\n",
        "sum_of_lists = sum(list1) + sum(list2)\n",
        "print(\"Sum of both lists:\", sum_of_lists)\n"
      ],
      "metadata": {
        "colab": {
          "base_uri": "https://localhost:8080/"
        },
        "id": "8_W5r3M71PTG",
        "outputId": "16ed6846-fb1b-4826-d899-8c5ccbe1cd63"
      },
      "execution_count": 35,
      "outputs": [
        {
          "output_type": "stream",
          "name": "stdout",
          "text": [
            "List 1: [26, 24, 18, 19, 12, 25, 20, 11, 21, 15]\n",
            "List 2: [11, 17, 28, 21, 26, 10, 12, 25, 22, 20]\n",
            "Common numbers: [11, 12, 20, 21, 25, 26]\n",
            "Unique numbers: [10, 15, 17, 18, 19, 22, 24, 28]\n",
            "Minimum value: 10\n",
            "Maximum value: 28\n",
            "Sum of both lists: 383\n"
          ]
        }
      ]
    },
    {
      "cell_type": "code",
      "source": [
        "import random\n",
        "\n",
        "## LIST OF NUMBERS(RAMDOM) IN A SPECIFIC RANGE\n",
        "numbers = random.sample(range(100, 901), 100)\n",
        "\n",
        "## ODD NUMBERS COUNT\n",
        "odd_numbers = [num for num in numbers if num % 2 != 0]\n",
        "print(\"Odd numbers:\", odd_numbers)\n",
        "print(\"Count of odd numbers:\", len(odd_numbers))\n",
        "\n",
        "## EVEN NUMBERS COUNT\n",
        "even_numbers = [num for num in numbers if num % 2 == 0]\n",
        "print(\"Even numbers:\", even_numbers)\n",
        "print(\"Count of even numbers:\", len(even_numbers))\n",
        "\n",
        "## PRIME NUMBER COUNT\n",
        "def is_prime(num):\n",
        "    if num < 2:\n",
        "        return False\n",
        "    for i in range(2, int(num ** 0.5) + 1):\n",
        "        if num % i == 0:\n",
        "            return False\n",
        "    return True\n",
        "\n",
        "prime_numbers = [num for num in numbers if is_prime(num)]\n",
        "print(\"Prime numbers:\", prime_numbers)\n",
        "print(\"Count of prime numbers:\", len(prime_numbers))\n"
      ],
      "metadata": {
        "colab": {
          "base_uri": "https://localhost:8080/"
        },
        "id": "kAoAh9FD1eoq",
        "outputId": "5a75f3f2-e340-4ef6-cc16-bd3d95e86e90"
      },
      "execution_count": 36,
      "outputs": [
        {
          "output_type": "stream",
          "name": "stdout",
          "text": [
            "Odd numbers: [377, 529, 699, 703, 523, 555, 191, 635, 161, 325, 207, 107, 705, 215, 753, 711, 495, 273, 537, 761, 569, 845, 865, 351, 277, 609, 733, 373, 685, 747, 645, 127, 797, 209, 135, 597, 779, 651, 571, 313, 475, 269, 513, 595, 847, 741, 871, 115, 629, 153, 805, 293]\n",
            "Count of odd numbers: 52\n",
            "Even numbers: [160, 788, 590, 350, 890, 196, 486, 792, 200, 290, 432, 440, 882, 306, 188, 810, 654, 320, 622, 298, 778, 584, 358, 226, 124, 374, 762, 456, 378, 850, 116, 166, 256, 900, 490, 808, 308, 874, 650, 268, 832, 284, 682, 670, 626, 184, 766, 712]\n",
            "Count of even numbers: 48\n",
            "Prime numbers: [523, 191, 107, 761, 569, 277, 733, 373, 127, 797, 571, 313, 269, 293]\n",
            "Count of prime numbers: 14\n"
          ]
        }
      ]
    },
    {
      "cell_type": "markdown",
      "source": [
        "QUESTION 7 :"
      ],
      "metadata": {
        "id": "5cnYJXqh13dU"
      }
    },
    {
      "cell_type": "code",
      "source": [
        "D = {1: \"One\", 2: \"Two\", 3: \"Three\", 4: \"Four\", 5: \"Five\"}\n",
        "\n",
        "with open(\"output.txt\", \"w\") as file:   # read all the keys (i)\n",
        "    for key, value in D.items():\n",
        "        file.write(f\"{key}, {value}\")  # write them into the file (ii)\n"
      ],
      "metadata": {
        "id": "MvPKJ9QT15Pl"
      },
      "execution_count": 37,
      "outputs": []
    },
    {
      "cell_type": "markdown",
      "source": [
        "QUESTION 8 :"
      ],
      "metadata": {
        "id": "wYAgA1qk2h2S"
      }
    },
    {
      "cell_type": "code",
      "source": [
        "L = [\"One\", \"Two\", \"Three\", \"Four\", \"Five\"]\n",
        "\n",
        "with open(\"output.txt\", \"w\") as file:  # read all the elements of thelist\n",
        "    \n",
        "    for element in L:\n",
        "        length = len(element)\n",
        "        file.write(f\"{element}, {length}\\n\")  ## write them\n"
      ],
      "metadata": {
        "id": "krIXBev_2nVt"
      },
      "execution_count": 38,
      "outputs": []
    },
    {
      "cell_type": "markdown",
      "source": [
        "QUESTION 9 :"
      ],
      "metadata": {
        "id": "52qKMGB73Axm"
      }
    },
    {
      "cell_type": "code",
      "source": [
        "import random\n",
        "import string\n",
        "def generate_random_string(length):\n",
        "    letters = string.ascii_letters\n",
        "    return ''.join(random.choice(letters) for i in range(length))\n",
        "with open(\"output.txt\", \"w\") as file:\n",
        "    for i in range(100):\n",
        "        string_length = random.randint(10, 15)\n",
        "        random_string = generate_random_string(string_length)\n",
        "        file.write(random_string + \"\\t\")"
      ],
      "metadata": {
        "id": "7wyK5uxu3C5J"
      },
      "execution_count": 39,
      "outputs": []
    },
    {
      "cell_type": "markdown",
      "source": [
        "QUESTION 10 :"
      ],
      "metadata": {
        "id": "arXTQNN33VNN"
      }
    },
    {
      "cell_type": "code",
      "source": [
        "def is_prime(num):  # Check for the prime numbers\n",
        "    if num < 2:\n",
        "        return False\n",
        "    for i in range(2, int(num ** 0.5) + 1):\n",
        "        if num % i == 0:\n",
        "            return False\n",
        "    return True\n",
        "\n",
        "with open(\"output.txt\", \"w\") as file:\n",
        "    for num in range(600, 801):\n",
        "        if is_prime(num):\n",
        "            file.write(str(num) + \"\\n\")"
      ],
      "metadata": {
        "id": "U0UXTZcJ3i0E"
      },
      "execution_count": 42,
      "outputs": []
    },
    {
      "cell_type": "markdown",
      "source": [
        "QUESTION 11 :"
      ],
      "metadata": {
        "id": "-0lEQyNv36qW"
      }
    },
    {
      "cell_type": "code",
      "source": [
        "import time\n",
        "start_time = time.time()\n",
        "end_time = time.time()\n",
        "elapsed_time = end_time - start_time\n",
        "print(\"Elapsed time:\", elapsed_time, \"seconds\")\n"
      ],
      "metadata": {
        "colab": {
          "base_uri": "https://localhost:8080/"
        },
        "id": "sYEmOemk38iz",
        "outputId": "bdc8f627-6a09-4f67-adb4-936c8a1476d3"
      },
      "execution_count": 43,
      "outputs": [
        {
          "output_type": "stream",
          "name": "stdout",
          "text": [
            "Elapsed time: 3.6716461181640625e-05 seconds\n"
          ]
        }
      ]
    },
    {
      "cell_type": "markdown",
      "source": [
        "QUESTION 12 :"
      ],
      "metadata": {
        "id": "loRdScIX4Egt"
      }
    },
    {
      "cell_type": "code",
      "source": [
        "import time\n",
        "import matplotlib.pyplot as plt\n",
        "\n",
        "def sort_list(num_elements):\n",
        "    numbers = [random.randint(0, 1000) for _ in range(num_elements)]\n",
        "    \n",
        "    start_time = time.time()\n",
        "    \n",
        "    numbers.sort()\n",
        "    \n",
        "    end_time = time.time()\n",
        "    \n",
        "    elapsed_time = end_time - start_time\n",
        "    \n",
        "    return elapsed_time\n",
        "\n",
        "num_elements = [5000, 10000, 15000, 20000, 25000]\n",
        "\n",
        "\n",
        "time_taken = []\n",
        "for num in num_elements:\n",
        "    elapsed_time = sort_list(num)\n",
        "    time_taken.append(elapsed_time)\n",
        "\n",
        "plt.plot(num_elements, time_taken)\n",
        "plt.xlabel('Number of Elements')\n",
        "plt.ylabel('Time Taken (seconds)')\n",
        "plt.title('Sorting Time vs Number of Elements')\n",
        "plt.show()"
      ],
      "metadata": {
        "colab": {
          "base_uri": "https://localhost:8080/",
          "height": 472
        },
        "id": "-Y7IOqIx4GYs",
        "outputId": "b770f207-c1c1-4386-9273-721392ce0782"
      },
      "execution_count": 44,
      "outputs": [
        {
          "output_type": "display_data",
          "data": {
            "text/plain": [
              "<Figure size 640x480 with 1 Axes>"
            ],
            "image/png": "[encoded data removed]"
          },
          "metadata": {}
        }
      ]
    },
    {
      "cell_type": "markdown",
      "source": [
        "QUESTION 13 :"
      ],
      "metadata": {
        "id": "0PRouiY85NDO"
      }
    },
    {
      "cell_type": "code",
      "source": [
        "\n",
        "student_marks = {\n",
        "    \"Student1\": [80, 75, 90, 85, 95],\n",
        "    \"Student2\": [70, 65, 80, 75, 85],\n",
        "    \"Student3\": [90, 85, 95, 80, 90],\n",
        "    \"Student4\": [75, 80, 85, 90, 95],\n",
        "    \"Student5\": [85, 90, 80, 75, 70]\n",
        "}\n",
        "\n",
        "average_marks = {}\n",
        "for student, marks in student_marks.items():\n",
        "    average = sum(marks) / len(marks)\n",
        "    average_marks[student] = average\n",
        "\n",
        "\n",
        "max_student = max(average_marks, key=average_marks.get)\n",
        "max_average = average_marks[max_student]\n",
        "\n",
        "\n",
        "min_student = min(average_marks, key=average_marks.get)\n",
        "min_average = average_marks[min_student]\n",
        "\n",
        "print(\"Student with maximum average marks:\")\n",
        "print(\"Name:\", max_student)\n",
        "print(\"Average Marks:\", max_average)\n",
        "print()\n",
        "print(\"Student with minimum average marks:\")\n",
        "print(\"Name:\", min_student)\n",
        "print(\"Average Marks:\", min_average)\n"
      ],
      "metadata": {
        "colab": {
          "base_uri": "https://localhost:8080/"
        },
        "id": "iRsHlx5U5PPg",
        "outputId": "4a0a453d-4051-4662-ef36-a943e38cd1b2"
      },
      "execution_count": 45,
      "outputs": [
        {
          "output_type": "stream",
          "name": "stdout",
          "text": [
            "Student with maximum average marks:\n",
            "Name: Student3\n",
            "Average Marks: 88.0\n",
            "\n",
            "Student with minimum average marks:\n",
            "Name: Student2\n",
            "Average Marks: 75.0\n"
          ]
        }
      ]
    }
  ]
}